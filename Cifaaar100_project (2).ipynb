{
  "nbformat": 4,
  "nbformat_minor": 0,
  "metadata": {
    "colab": {
      "provenance": []
    },
    "kernelspec": {
      "name": "python3",
      "display_name": "Python 3"
    },
    "language_info": {
      "name": "python"
    },
    "accelerator": "GPU",
    "gpuClass": "standard"
  },
  "cells": [
    {
      "cell_type": "markdown",
      "source": [
        "\"\"\"Project 1: Cifar 100 classification\n",
        "Dataset Link: this Dataset is available in tensorflow datasets\"\"\"\n"
      ],
      "metadata": {
        "id": "GpmwjTjkyN2B"
      }
    },
    {
      "cell_type": "code",
      "source": [
        "import tensorflow as tf\n",
        "from tensorflow.keras import datasets, layers, models\n",
        "import matplotlib.pyplot as plt\n",
        "import numpy as np"
      ],
      "metadata": {
        "id": "-ZQ7UJwixpN4"
      },
      "execution_count": null,
      "outputs": []
    },
    {
      "cell_type": "code",
      "source": [
        "(X_train, y_train), (X_test,y_test) = datasets.cifar100.load_data()\n",
        "X_train.shape"
      ],
      "metadata": {
        "colab": {
          "base_uri": "https://localhost:8080/"
        },
        "id": "p3KGHHkmMRt_",
        "outputId": "8365e872-dd98-4f97-85e4-8d45140e5375"
      },
      "execution_count": null,
      "outputs": [
        {
          "output_type": "execute_result",
          "data": {
            "text/plain": [
              "(50000, 32, 32, 3)"
            ]
          },
          "metadata": {},
          "execution_count": 2
        }
      ]
    },
    {
      "cell_type": "code",
      "source": [
        "X_test.shape"
      ],
      "metadata": {
        "id": "t5tqVbQQMWvE",
        "colab": {
          "base_uri": "https://localhost:8080/"
        },
        "outputId": "682d739c-650e-41a7-89cd-af177b5a6caa"
      },
      "execution_count": null,
      "outputs": [
        {
          "output_type": "execute_result",
          "data": {
            "text/plain": [
              "(10000, 32, 32, 3)"
            ]
          },
          "metadata": {},
          "execution_count": 3
        }
      ]
    },
    {
      "cell_type": "code",
      "source": [
        "y_train.shape"
      ],
      "metadata": {
        "id": "ScPyVRg6MaoT",
        "colab": {
          "base_uri": "https://localhost:8080/"
        },
        "outputId": "c72f1247-93a8-4212-8d3a-708d0a2e9648"
      },
      "execution_count": null,
      "outputs": [
        {
          "output_type": "execute_result",
          "data": {
            "text/plain": [
              "(50000, 1)"
            ]
          },
          "metadata": {},
          "execution_count": 4
        }
      ]
    },
    {
      "cell_type": "code",
      "source": [
        "y_train[:5]"
      ],
      "metadata": {
        "id": "IPj2tRRnMdes",
        "colab": {
          "base_uri": "https://localhost:8080/"
        },
        "outputId": "9b69ea8b-0f43-4800-f21d-32438be942ae"
      },
      "execution_count": null,
      "outputs": [
        {
          "output_type": "execute_result",
          "data": {
            "text/plain": [
              "array([[19],\n",
              "       [29],\n",
              "       [ 0],\n",
              "       [11],\n",
              "       [ 1]])"
            ]
          },
          "metadata": {},
          "execution_count": 5
        }
      ]
    },
    {
      "cell_type": "code",
      "source": [
        "y_train = y_train.reshape(-1,)\n",
        "y_train[:5]"
      ],
      "metadata": {
        "id": "AOjjaPZyMf4p",
        "colab": {
          "base_uri": "https://localhost:8080/"
        },
        "outputId": "fe6eed14-b966-44fe-b9a5-1150f5ad37f1"
      },
      "execution_count": null,
      "outputs": [
        {
          "output_type": "execute_result",
          "data": {
            "text/plain": [
              "array([19, 29,  0, 11,  1])"
            ]
          },
          "metadata": {},
          "execution_count": 6
        }
      ]
    },
    {
      "cell_type": "code",
      "source": [
        "y_test = y_test.reshape(-1,)"
      ],
      "metadata": {
        "id": "thcGvHK0Mipp"
      },
      "execution_count": null,
      "outputs": []
    },
    {
      "cell_type": "code",
      "source": [
        "classes = ['apple','aquarium_fish','baby','bear','beaver','bed','bee','beetle','bicycle','bottle','bowl','boy','bridge','bus','butterfly','camel','can','castle','caterpillar','cattle',\n",
        "           'chair','chimpanzee','clock','cloud','cockroach','couch','cra','crocodile','cup','dinosaur','dolphin','elephant','flatfish','forest','fox','girl','hamster','house','kangaroo',\n",
        "           'keyboard','lamp','lawn_mower','leopard','lion','lizard','lobster','man','maple_tree','motorcycle','mountain','mouse','mushroom','oak_tree','orange','orchid','otter','palm_tree',\n",
        "           'pear','pickup_truck','pine_tree','plain','plate','poppy','porcupine','possum','rabbit','raccoon',\"ray\",\"road\",\"rocket\",\"rose\",\"sea\",\"seal\",\"shark\",\"shrew\",\"skunk\",\"skyscraper\",\n",
        "           \"snail\",\"snake\",'spider',\"squirrels\",\"treetcar\",\"sunflower\",\"sweet_pepper\",\"table\",\"tank\",\"telephone\",\"television\",\"tiger\",\"tractor\",\"train\",\"trout\",\"tulip\",\"turtle\",\"wardrobe\",\n",
        "           'whale','willow_tree','wolf','woman','worm']"
      ],
      "metadata": {
        "id": "KcUHZE0LMnFl"
      },
      "execution_count": null,
      "outputs": []
    },
    {
      "cell_type": "code",
      "source": [
        "len(classes)"
      ],
      "metadata": {
        "id": "UqWGq6fCQEo1",
        "colab": {
          "base_uri": "https://localhost:8080/"
        },
        "outputId": "c954b242-b0f4-4ef4-9af6-7f768e15ad68"
      },
      "execution_count": null,
      "outputs": [
        {
          "output_type": "execute_result",
          "data": {
            "text/plain": [
              "100"
            ]
          },
          "metadata": {},
          "execution_count": 9
        }
      ]
    },
    {
      "cell_type": "code",
      "source": [
        "def plot_sample(X, y, index):\n",
        "    plt.figure(figsize = (15,2))\n",
        "    plt.imshow(X[index])\n",
        "    plt.xlabel(classes[y[index]])"
      ],
      "metadata": {
        "id": "u2j5x-6PQHjs"
      },
      "execution_count": null,
      "outputs": []
    },
    {
      "cell_type": "code",
      "source": [
        "plot_sample(X_train, y_train, 15)"
      ],
      "metadata": {
        "id": "cS0uS6DSRzyH",
        "colab": {
          "base_uri": "https://localhost:8080/",
          "height": 173
        },
        "outputId": "2711207c-fd69-4467-c5af-bae74d78f52d"
      },
      "execution_count": null,
      "outputs": [
        {
          "output_type": "display_data",
          "data": {
            "text/plain": [
              "<Figure size 1080x144 with 1 Axes>"
            ],
            "image/png": "[encoded data removed]"
          },
          "metadata": {
            "needs_background": "light"
          }
        }
      ]
    },
    {
      "cell_type": "code",
      "source": [
        "X_train = X_train / 255.0\n",
        "X_test = X_test / 255.0"
      ],
      "metadata": {
        "id": "Lb8F1SQCSB1Y"
      },
      "execution_count": null,
      "outputs": []
    },
    {
      "cell_type": "code",
      "source": [
        "from tensorflow.keras.layers import Dropout"
      ],
      "metadata": {
        "id": "jE-1OMC2Bigq"
      },
      "execution_count": null,
      "outputs": []
    },
    {
      "cell_type": "code",
      "source": [
        "model = models.Sequential()\n",
        "model.add(layers.Conv2D(32, (3, 3), activation='relu', input_shape=(32, 32, 3)))\n",
        "model.add(layers.MaxPooling2D((2, 2)))\n",
        "model.add(layers.Conv2D(64, (3, 3), activation='relu'))\n",
        "model.add(layers.MaxPooling2D((2, 2)))\n",
        "model.add(layers.Conv2D(64, (3, 3), activation='relu'))"
      ],
      "metadata": {
        "id": "MilEr0ObfYpP"
      },
      "execution_count": null,
      "outputs": []
    },
    {
      "cell_type": "code",
      "source": [
        "model.add(layers.Flatten())\n",
        "model.add(layers.Dense(700, activation='relu'))\n",
        "model.add(layers.Dense(500, activation='relu'))\n",
        "model.add(layers.Dense(100, activation ='softmax'))"
      ],
      "metadata": {
        "id": "4XGP0v6tfo6t"
      },
      "execution_count": null,
      "outputs": []
    },
    {
      "cell_type": "code",
      "source": [
        "model.compile(optimizer='adam',\n",
        "              loss=\"sparse_categorical_crossentropy\",\n",
        "              metrics=['accuracy']\n",
        "              )\n"
      ],
      "metadata": {
        "id": "TAfuKt35fsnB"
      },
      "execution_count": null,
      "outputs": []
    },
    {
      "cell_type": "code",
      "source": [
        "history = model.fit(X_train, y_train, epochs=10, validation_split = 0.2)"
      ],
      "metadata": {
        "id": "eKt6dbW_fsqb",
        "colab": {
          "base_uri": "https://localhost:8080/"
        },
        "outputId": "c70bbcd1-f50e-4394-f86d-cdfae985373f"
      },
      "execution_count": null,
      "outputs": [
        {
          "output_type": "stream",
          "name": "stdout",
          "text": [
            "Epoch 1/10\n",
            "1250/1250 [==============================] - 17s 8ms/step - loss: 4.0020 - accuracy: 0.0802 - val_loss: 3.5974 - val_accuracy: 0.1369\n",
            "Epoch 2/10\n",
            "1250/1250 [==============================] - 7s 5ms/step - loss: 3.3798 - accuracy: 0.1841 - val_loss: 3.2057 - val_accuracy: 0.2146\n",
            "Epoch 3/10\n",
            "1250/1250 [==============================] - 7s 6ms/step - loss: 3.0279 - accuracy: 0.2478 - val_loss: 3.0191 - val_accuracy: 0.2574\n",
            "Epoch 4/10\n",
            "1250/1250 [==============================] - 7s 6ms/step - loss: 2.7790 - accuracy: 0.2974 - val_loss: 2.8889 - val_accuracy: 0.2828\n",
            "Epoch 5/10\n",
            "1250/1250 [==============================] - 7s 5ms/step - loss: 2.5776 - accuracy: 0.3381 - val_loss: 2.8277 - val_accuracy: 0.3045\n",
            "Epoch 6/10\n",
            "1250/1250 [==============================] - 7s 6ms/step - loss: 2.3940 - accuracy: 0.3776 - val_loss: 2.8559 - val_accuracy: 0.3058\n",
            "Epoch 7/10\n",
            "1250/1250 [==============================] - 7s 6ms/step - loss: 2.2031 - accuracy: 0.4134 - val_loss: 2.8267 - val_accuracy: 0.3174\n",
            "Epoch 8/10\n",
            "1250/1250 [==============================] - 7s 6ms/step - loss: 2.0173 - accuracy: 0.4543 - val_loss: 2.8830 - val_accuracy: 0.3201\n",
            "Epoch 9/10\n",
            "1250/1250 [==============================] - 7s 6ms/step - loss: 1.8212 - accuracy: 0.4986 - val_loss: 3.0095 - val_accuracy: 0.3179\n",
            "Epoch 10/10\n",
            "1250/1250 [==============================] - 8s 6ms/step - loss: 1.6141 - accuracy: 0.5474 - val_loss: 3.1410 - val_accuracy: 0.3239\n"
          ]
        }
      ]
    },
    {
      "cell_type": "code",
      "source": [
        "model.evaluate(X_test,y_test)"
      ],
      "metadata": {
        "id": "jyIc01uIUR36",
        "colab": {
          "base_uri": "https://localhost:8080/"
        },
        "outputId": "293c52f9-897e-4511-c52d-1d53d9d4d7f7"
      },
      "execution_count": null,
      "outputs": [
        {
          "output_type": "stream",
          "name": "stdout",
          "text": [
            "313/313 [==============================] - 1s 3ms/step - loss: 3.1197 - accuracy: 0.3285\n"
          ]
        },
        {
          "output_type": "execute_result",
          "data": {
            "text/plain": [
              "[3.119729995727539, 0.32850000262260437]"
            ]
          },
          "metadata": {},
          "execution_count": 18
        }
      ]
    },
    {
      "cell_type": "code",
      "source": [
        "y_pred = model.predict(X_test)"
      ],
      "metadata": {
        "id": "gFeTHabugu-N",
        "colab": {
          "base_uri": "https://localhost:8080/"
        },
        "outputId": "1a0e30a5-3685-4bbc-9815-294869e3946f"
      },
      "execution_count": null,
      "outputs": [
        {
          "output_type": "stream",
          "name": "stdout",
          "text": [
            "313/313 [==============================] - 1s 2ms/step\n"
          ]
        }
      ]
    },
    {
      "cell_type": "code",
      "source": [
        "y_classes = [np.argmax(element) for element in y_pred]\n",
        "y_classes[:15]"
      ],
      "metadata": {
        "id": "9v3t2mRZiGR3",
        "colab": {
          "base_uri": "https://localhost:8080/"
        },
        "outputId": "df8a81f5-b1fd-4a0f-cd19-705199b19cbc"
      },
      "execution_count": null,
      "outputs": [
        {
          "output_type": "execute_result",
          "data": {
            "text/plain": [
              "[69, 38, 45, 51, 71, 3, 38, 61, 23, 9, 87, 75, 13, 69, 40]"
            ]
          },
          "metadata": {},
          "execution_count": 20
        }
      ]
    },
    {
      "cell_type": "code",
      "source": [
        "y_test[:15]"
      ],
      "metadata": {
        "id": "mEDISH0PiK3I",
        "colab": {
          "base_uri": "https://localhost:8080/"
        },
        "outputId": "ad1765ba-117a-4662-d2fa-b2fd892cfae3"
      },
      "execution_count": null,
      "outputs": [
        {
          "output_type": "execute_result",
          "data": {
            "text/plain": [
              "array([49, 33, 72, 51, 71, 92, 15, 14, 23,  0, 71, 75, 81, 69, 40])"
            ]
          },
          "metadata": {},
          "execution_count": 21
        }
      ]
    },
    {
      "cell_type": "code",
      "source": [
        "plot_sample(X_test, y_test,44)"
      ],
      "metadata": {
        "id": "7GDiAR0iiO5U",
        "colab": {
          "base_uri": "https://localhost:8080/",
          "height": 174
        },
        "outputId": "f3554520-6a3e-409a-bb67-02b74a84fad2"
      },
      "execution_count": null,
      "outputs": [
        {
          "output_type": "display_data",
          "data": {
            "text/plain": [
              "<Figure size 1080x144 with 1 Axes>"
            ],
            "image/png": "[encoded data removed]"
          },
          "metadata": {
            "needs_background": "light"
          }
        }
      ]
    },
    {
      "cell_type": "code",
      "source": [
        "classes[y_classes[44]]"
      ],
      "metadata": {
        "id": "sOOuSpdniTar",
        "colab": {
          "base_uri": "https://localhost:8080/",
          "height": 36
        },
        "outputId": "db3da38e-9be0-4123-a927-583bba71fc4a"
      },
      "execution_count": null,
      "outputs": [
        {
          "output_type": "execute_result",
          "data": {
            "text/plain": [
              "'palm_tree'"
            ],
            "application/vnd.google.colaboratory.intrinsic+json": {
              "type": "string"
            }
          },
          "metadata": {},
          "execution_count": 23
        }
      ]
    },
    {
      "cell_type": "code",
      "source": [],
      "metadata": {
        "id": "0VXBc656iZGq"
      },
      "execution_count": null,
      "outputs": []
    }
  ]
}